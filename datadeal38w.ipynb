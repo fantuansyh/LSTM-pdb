{
 "cells": [
  {
   "cell_type": "code",
   "execution_count": 20,
   "metadata": {
    "collapsed": true,
    "ExecuteTime": {
     "end_time": "2024-07-22T06:22:38.476229500Z",
     "start_time": "2024-07-22T06:22:38.472490600Z"
    }
   },
   "outputs": [],
   "source": [
    "import os\n",
    "import pandas as pd\n",
    "import numpy as np\n",
    "np.set_printoptions(threshold=np.inf)\n",
    "import matplotlib.pyplot as plt\n",
    "import seaborn as sns\n",
    "from sklearn.preprocessing import StandardScaler"
   ]
  },
  {
   "metadata": {},
   "cell_type": "markdown",
   "source": [
    "查看数据是否正确并保存标签文件"
   ]
  },
  {
   "cell_type": "code",
   "execution_count": 21,
   "outputs": [
    {
     "name": "stdout",
     "output_type": "stream",
     "text": [
      "DataSet Size:  386226\n",
      "                                                 sequence  label\n",
      "0                LGLGLGLGLGLGLGLRLRLRLRLRLRLRLRLRLRLRQWPR      0\n",
      "1                LLRLLIGRSRRARLDAALRRGAAGLRWRAWRLWHARRLRR      0\n",
      "2                WWLSEPWRLRRRRARIVRTPFPPAWRAILRRRVPVYRRLP      0\n",
      "3                LLLGLALFAVAGGLLVYAAISLGWRVAVRLRRRRRLRRRM      0\n",
      "4                LAWWRATQARWHAWVAAWPPWRALRARVAAWRRVWRRWRR      0\n",
      "...                                                   ...    ...\n",
      "386221           GDIDFQCEQFDRLYLGKLVVRPTPNPNFRRIDAQVRDVDG      0\n",
      "386222  GFTLVEVLVALAVVAVTLGAGLQAAAALTRNAQRLGEVTEAQWCAD...      0\n",
      "386223  ALAVVAVTLGAGLQAAAALTRNAQRLGEVTEAQWCADNQITNLRLP...      0\n",
      "386224  DNQITNLRLPEPPAFPGVGDIDFQCEQFDRLYLGKLVVRPTPNPNF...      0\n",
      "386225  PEPPAFPGVGDIDFQCEQFDRLYLGKLVVRPTPNPNFRRIDAQVRD...      0\n",
      "\n",
      "[386226 rows x 2 columns]\n"
     ]
    }
   ],
   "source": [
    "data = pd.read_csv(r'.\\data\\Rolling ring cutting40-70_predication.csv')\n",
    "# Remove empty rows\n",
    "data = data.dropna(how='all')\n",
    "print(\"DataSet Size: \", len(data))\n",
    "print(data)"
   ],
   "metadata": {
    "collapsed": false,
    "ExecuteTime": {
     "end_time": "2024-07-22T06:22:39.255605100Z",
     "start_time": "2024-07-22T06:22:38.998379300Z"
    }
   }
  },
  {
   "metadata": {},
   "cell_type": "code",
   "outputs": [],
   "execution_count": null,
   "source": [
    "# 获取标签\n",
    "labels = data.iloc[:, 1].values  \n",
    "# 将标签保存到文本文件中\n",
    "label_file_path = 'save_labels.txt'\n",
    "with open(label_file_path, 'w') as f:\n",
    "    for label in labels:\n",
    "        f.write(f\"{label}\\n\")\n",
    "print(f\"Labels have been saved to {label_file_path}\")"
   ]
  },
  {
   "metadata": {},
   "cell_type": "markdown",
   "source": [
    "25维特征"
   ]
  },
  {
   "cell_type": "code",
   "execution_count": 22,
   "outputs": [],
   "source": [
    "# 理化性质\n",
    "physicochemical_properties = {\n",
    "    'A': [5, 0, 2, 7.00, 0.52], 'C': [6, 0, 2, 7.00, 0.29], 'D': [8, -1, 4, 3.65, -0.9], 'E': [9, -1, 4, 3.22, -0.74],\n",
    "    'F': [11, 0, 2, 7.00, 1.19], 'G': [4, 0, 2, 7.00, 0.48], 'H': [10, 1, 4, 6.00, -0.4], 'I': [8, 0, 2, 7.00, 1.38],\n",
    "    'K': [9, 1, 2, 10.53, -1.5], 'L': [8, 0, 2, 7.00, 1.06], 'M': [8, 0, 2, 7.00, 0.64], 'N': [8, 0, 4, 8.18, -0.78],\n",
    "    'P': [7, 0, 2, 7.00, 0.12], 'Q': [9, 0, 4, 7.00, -0.85], 'R': [11, 1, 4, 12.48, -2.53], 'S': [6, 0, 4, 7.00, -0.18],\n",
    "    'T': [7, 0, 4, 7.00, -0.05], 'V': [7, 0, 2, 7.00, 1.08], 'W': [14, 0, 3, 7.00, 0.81], 'Y': [12, 0, 3, 10.07, 0.26]\n",
    "}\n",
    "# 映射字典\n",
    "amino_acid_map = {\n",
    "    'A': 1, 'C': 2, 'D': 3, 'E': 4,\n",
    "    'F': 5, 'G': 6, 'H': 7, 'I': 8,\n",
    "    'K': 9, 'L': 10, 'M': 11, 'N': 12,\n",
    "    'P': 13, 'Q': 14, 'R': 15, 'S': 16,\n",
    "    'T': 17, 'V': 18, 'W': 19, 'Y': 20\n",
    "}"
   ],
   "metadata": {
    "collapsed": false,
    "ExecuteTime": {
     "end_time": "2024-07-22T06:22:44.310467400Z",
     "start_time": "2024-07-22T06:22:44.307305400Z"
    }
   }
  },
  {
   "metadata": {},
   "cell_type": "markdown",
   "source": [
    "独特编码函数"
   ]
  },
  {
   "cell_type": "code",
   "execution_count": 23,
   "outputs": [],
   "source": [
    "# 定义一个函数，将氨基酸序列转换为独热编码数组\n",
    "def one_hot_encode_sequence(sequence, mapping):\n",
    "    # 创建一个空列表来存储编码后的序列和理化性质\n",
    "    encoded_sequence_with_properties = []\n",
    "    # 遍历序列中的每个氨基酸\n",
    "    for amino_acid in sequence:\n",
    "        # 获取氨基酸的映射索引\n",
    "        index = mapping[amino_acid] - 1\n",
    "        # 创建一个长度为 20 的全零数组，只在对应索引位置设置为 1\n",
    "        one_hot_vector = np.zeros(20)\n",
    "        one_hot_vector[index] = 1\n",
    "        # 获取对应的理化性质\n",
    "        properties = np.array(physicochemical_properties[amino_acid])\n",
    "        # 创建一个25元素的一维数组，前20个元素是独热编码，后5个元素是理化性质\n",
    "        combined_vector = np.concatenate((one_hot_vector, properties))\n",
    "        encoded_sequence_with_properties.append(combined_vector)\n",
    "    # 将序列组合成一个 NumPy 数组\n",
    "    encoded_array = np.array(encoded_sequence_with_properties)\n",
    "    # 仅对每个序列的最后两个元素进行标准化\n",
    "    scaler = StandardScaler()\n",
    "    encoded_array[:, -5:] = scaler.fit_transform(encoded_array[:, -5:])\n",
    "    return encoded_array\n"
   ],
   "metadata": {
    "collapsed": false,
    "ExecuteTime": {
     "end_time": "2024-07-22T06:22:45.492473600Z",
     "start_time": "2024-07-22T06:22:45.490464400Z"
    }
   }
  },
  {
   "cell_type": "code",
   "execution_count": 27,
   "outputs": [
    {
     "name": "stdout",
     "output_type": "stream",
     "text": [
      "Skipping sequence with unknown amino acid 'U' at position 330524.\n",
      "Skipping sequence with unknown amino acid 'U' at position 330525.\n",
      "Skipping sequence with unknown amino acid 'U' at position 330526.\n",
      "Skipping sequence with unknown amino acid 'U' at position 330527.\n",
      "Skipping sequence with unknown amino acid 'U' at position 330528.\n",
      "Skipping sequence with unknown amino acid 'U' at position 330616.\n",
      "Skipping sequence with unknown amino acid 'U' at position 330617.\n",
      "Skipping sequence with unknown amino acid 'U' at position 330618.\n",
      "Skipping sequence with unknown amino acid 'U' at position 330619.\n",
      "Skipping sequence with unknown amino acid 'U' at position 330620.\n",
      "Skipping sequence with unknown amino acid 'U' at position 330694.\n",
      "Skipping sequence with unknown amino acid 'U' at position 330695.\n",
      "Skipping sequence with unknown amino acid 'U' at position 330696.\n",
      "Skipping sequence with unknown amino acid 'U' at position 330697.\n",
      "Skipping sequence with unknown amino acid 'U' at position 330750.\n",
      "Skipping sequence with unknown amino acid 'U' at position 330751.\n",
      "Skipping sequence with unknown amino acid 'U' at position 330752.\n",
      "Over!\n"
     ]
    }
   ],
   "source": [
    "# 保存路径\n",
    "Base_Save_Path = r'.\\data\\data38w'\n",
    "# CSV 文件路径，包含待处理的氨基酸序列\n",
    "excel_file_path = r'.\\data\\Rolling ring cutting40-70_predication.csv'\n",
    "\n",
    "# 读取 CSV 文件中的数据\n",
    "excel_data = pd.read_csv(excel_file_path)\n",
    "# 用于统计未知氨基酸 'X', 'B', 'U' 的计数\n",
    "N = [0]*3\n",
    "# 定义每个文件夹中最多可以存放的文件数量\n",
    "files_per_folder = 10000\n",
    "# 当前文件夹索引，用于跟踪和命名新的文件夹\n",
    "current_folder_index = 0\n",
    "# 文件计数器，用于在达到 `files_per_folder` 时切换到新文件夹\n",
    "file_counter = 0\n",
    "# 遍历 CSV 文件中的每一行\n",
    "for i in range(len(excel_data)):\n",
    "    # 获取当前行的氨基酸序列\n",
    "    Chain = excel_data.iloc[i, 0]\n",
    "    # 检查序列中是否包含未知氨基酸 'X'\n",
    "    if 'X' in Chain:\n",
    "        N[0] += 1\n",
    "        print(f\"Skipping sequence with unknown amino acid 'X' at position {i+1}.\")\n",
    "        continue  # 跳过包含 'X' 的序列\n",
    "    # 检查序列中是否包含未知氨基酸 'B'\n",
    "    if 'B' in Chain:\n",
    "        N[1] += 1\n",
    "        print(f\"Skipping sequence with unknown amino acid 'B' at position {i+1}.\")\n",
    "        continue  # 跳过包含 'B' 的序列\n",
    "    # 检查序列中是否包含未知氨基酸 'U'\n",
    "    if 'U' in Chain:\n",
    "        N[2] += 1\n",
    "        print(f\"Skipping sequence with unknown amino acid 'U' at position {i+1}.\")\n",
    "        continue  # 跳过包含 'U' 的序列\n",
    "    # 检查当前文件数是否达到每个文件夹的限制，若是则创建新文件夹\n",
    "    if file_counter % files_per_folder == 0:\n",
    "        current_folder_index += 1  # 增加文件夹索引\n",
    "        current_folder_path = os.path.join(Base_Save_Path, f'folder_{current_folder_index}')\n",
    "        os.makedirs(current_folder_path, exist_ok=True)  # 创建新文件夹，如果不存在\n",
    "    # 使用 Excel 行索引作为文件名\n",
    "    file_name = str(i + 1)\n",
    "    # 保存路径，包括当前文件夹路径和文件名\n",
    "    Save_Path = os.path.join(current_folder_path, f'{file_name}.txt')\n",
    "    # 将氨基酸序列转换为独热编码和理化性质的矩阵\n",
    "    Matrix = one_hot_encode_sequence(Chain, amino_acid_map)\n",
    "    # 打开目标文件，写入矩阵数据\n",
    "    with open(Save_Path, 'w') as f:\n",
    "        for row in Matrix:\n",
    "            # 将矩阵中的每一行写入文件，每个值用空格分隔\n",
    "            f.write(' '.join(map(str, row)) + '\\n')\n",
    "    # 增加文件计数器\n",
    "    file_counter += 1\n",
    "# 所有序列处理完毕后，打印结束信息\n",
    "print(\"Over!\")"
   ],
   "metadata": {
    "collapsed": false,
    "ExecuteTime": {
     "end_time": "2024-07-22T11:43:32.660319Z",
     "start_time": "2024-07-22T11:36:18.858561Z"
    }
   }
  }
 ],
 "metadata": {
  "kernelspec": {
   "display_name": "Python 3",
   "language": "python",
   "name": "python3"
  },
  "language_info": {
   "codemirror_mode": {
    "name": "ipython",
    "version": 2
   },
   "file_extension": ".py",
   "mimetype": "text/x-python",
   "name": "python",
   "nbconvert_exporter": "python",
   "pygments_lexer": "ipython2",
   "version": "2.7.6"
  }
 },
 "nbformat": 4,
 "nbformat_minor": 0
}
