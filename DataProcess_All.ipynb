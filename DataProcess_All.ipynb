{
 "cells": [
  {
   "cell_type": "code",
   "execution_count": 157,
   "metadata": {},
   "outputs": [],
   "source": [
    "import os\n",
    "import re\n",
    "import matplotlib.pyplot as plt\n",
    "import numpy as np\n",
    "import pandas as pd\n",
    "np.set_printoptions(threshold=np.inf)\n",
    "import dgl\n",
    "import torch\n",
    "from torch._C import device\n",
    "import torch.nn as nn\n",
    "import torch.nn.functional as F\n",
    "import torch.optim as optim\n",
    "from torch.utils.data import DataLoader\n",
    "from dgl.data import MiniGCDataset\n",
    "from dgl.nn.pytorch import GraphConv\n",
    "from sklearn.metrics import accuracy_score\n",
    "import networkx as nx\n",
    "import seaborn as sns\n",
    "from sklearn.metrics import accuracy_score, confusion_matrix, classification_report"
   ]
  },
  {
   "cell_type": "code",
   "execution_count": 158,
   "metadata": {},
   "outputs": [],
   "source": [
    "def MainDate(root, path):\n",
    "    Original = []\n",
    "    Target = []\n",
    "    Label = root[-1]\n",
    "    Nodes = []\n",
    "    Edges_Nums = 0\n",
    "    Edges_Weight = []\n",
    "    \n",
    "    # 读取文件并分割每一行，然后转换成浮点数\n",
    "    adjacency_matrix = np.loadtxt(path, delimiter=' ')\n",
    "\n",
    "    AM_copy = np.array(adjacency_matrix).copy()\n",
    "    \n",
    "    # # 打印读取的邻接矩阵\n",
    "    # print(\"AdjacencyMatrix.shape:\\n\", adjacency_matrix.shape, '\\n') \n",
    "    # print(\"AdjacencyMatrix:\\n\", adjacency_matrix, '\\n') \n",
    "    \n",
    "    for i in range(AM_copy.shape[0]):\n",
    "        if i == 0:\n",
    "            if  AM_copy[i][i + 1] == 0:\n",
    "                AM_copy[i][i + 1] = AM_copy[i][i]\n",
    "                AM_copy[i + 1][i] = AM_copy[i][i]\n",
    "              \n",
    "        if i > 0 and i < AM_copy.shape[0] - 1:\n",
    "            if AM_copy[i + 1][i] == 0 and AM_copy[i][i + 1] == 0:\n",
    "                AM_copy[i][i + 1] = AM_copy[i][i]\n",
    "                AM_copy[i + 1][i] = AM_copy[i][i]\n",
    "        \n",
    "        if i == AM_copy.shape[0] - 1:\n",
    "            if  AM_copy[i][i - 1] == 0:\n",
    "                AM_copy[i][i - 1] = AM_copy[i][i]\n",
    "                AM_copy[i - 1][i] = AM_copy[i][i]\n",
    "                \n",
    "    for i in range(AM_copy.shape[0]):\n",
    "        Nodes.append(i)            \n",
    "        for j in range(AM_copy.shape[1]):    \n",
    "            if AM_copy[i][j] != 0 and i != j:\n",
    "                Edges_Nums += 1\n",
    "                Edges_Weight.append(AM_copy[i][j])\n",
    "                Original.append(i)\n",
    "                Target.append(j)\n",
    "    \n",
    "    return torch.tensor(Original), torch.tensor(Target), torch.tensor(int(Label)), torch.tensor(Nodes), Edges_Nums, torch.tensor(Edges_Weight)"
   ]
  },
  {
   "cell_type": "code",
   "execution_count": 159,
   "metadata": {},
   "outputs": [],
   "source": [
    "def GraphCreat(path, Original, Target, Label ,Edges_Nums, Edges_Weight):\n",
    "    # 使用dgl.graph创建图，传入边的列表\n",
    "    graph = dgl.graph((Original, Target))\n",
    "\n",
    "    # 为节点特征赋值\n",
    "    # 读取文件并分割每一行，然后转换成浮点数\n",
    "    Nodes_Features = np.loadtxt(path, delimiter=' ')\n",
    "    \n",
    "    # print(\"Nodes_Features.shape:\\n\", Nodes_Features.shape, '\\n')\n",
    "    # print(\"Nodes_Features:\\n\", Nodes_Features, '\\n')\n",
    "                    \n",
    "    graph.ndata['feat'] = torch.tensor(Nodes_Features)\n",
    "\n",
    "    # 为边特征赋值\n",
    "    graph.edata['feat'] = (Edges_Weight).reshape((Edges_Nums, 1))\n",
    "\n",
    "    # 打印图信息\n",
    "    # print((graph, Label))\n",
    "    return (graph, Label)"
   ]
  },
  {
   "cell_type": "code",
   "execution_count": 160,
   "metadata": {},
   "outputs": [],
   "source": [
    "import os\n",
    "\n",
    "# 指定根路径\n",
    "root_path = r'C:\\Users\\ChenXY\\Desktop\\VScode\\Python\\iGEM\\Final_First\\AllData'\n",
    "# 指定要遍历的顶层子文件夹名称\n",
    "top_subfolders = ['AdjacencyMatrix', 'OneHotEncodedData']\n",
    "AdjacencyMatrix_FilePath = []\n",
    "OneHotEncodedData_FilePath = []\n",
    "\n",
    "\n",
    "# 遍历顶层子文件夹\n",
    "for idx, top_folder in enumerate(top_subfolders):\n",
    "    # 构造顶层子文件夹的路径\n",
    "    top_path = os.path.join(root_path, top_folder)\n",
    "    for root, dirs, files in os.walk(top_path):\n",
    "        # print(root, dirs, files)\n",
    "        for file in files:\n",
    "            if file.endswith('.txt'):\n",
    "                file_path = os.path.join(root, file)\n",
    "                # print(root, \"file_path:\", file_path)\n",
    "                if idx == 0:\n",
    "                    AdjacencyMatrix_FilePath.append((root.split('\\\\')[-1], file_path))\n",
    "                elif idx == 1:\n",
    "                    OneHotEncodedData_FilePath.append((root.split('\\\\')[-1], file_path))"
   ]
  },
  {
   "cell_type": "code",
   "execution_count": 161,
   "metadata": {},
   "outputs": [
    {
     "data": {
      "text/plain": [
       "(Graph(num_nodes=58, num_edges=284,\n",
       "       ndata_schemes={'feat': Scheme(shape=(25,), dtype=torch.float64)}\n",
       "       edata_schemes={'feat': Scheme(shape=(1,), dtype=torch.float64)}),\n",
       " tensor(0))"
      ]
     },
     "execution_count": 161,
     "metadata": {},
     "output_type": "execute_result"
    }
   ],
   "source": [
    "# 测试\n",
    "Original, Target, Label, Nodes, Edges_Nums, Edges_Weight = MainDate(AdjacencyMatrix_FilePath[0][0], AdjacencyMatrix_FilePath[0][1])\n",
    "\n",
    "GraphCreat(OneHotEncodedData_FilePath[0][1], Original, Target, Label ,Edges_Nums, Edges_Weight)"
   ]
  },
  {
   "cell_type": "code",
   "execution_count": 162,
   "metadata": {},
   "outputs": [],
   "source": [
    "# # 测试\n",
    "# Original, Target, Label, Nodes, Edges_Nums, Edges_Weight = MainDate(AdjacencyMatrix_FilePath[0][0], r\"C:\\Users\\ChenXY\\Desktop\\VScode\\Python\\iGEM\\Final_First\\AllData\\AdjacencyMatrix\\label0\\1156_AdjacencyMatrix.txt\")\n",
    "# # print(Original)\n",
    "# # print(Target)\n",
    "# # print(Label)\n",
    "# # print(Edges_Nums)\n",
    "# # print(Edges_Weight)\n",
    "# GraphCreat(r\"C:\\Users\\ChenXY\\Desktop\\VScode\\Python\\iGEM\\Final_First\\AllData\\OneHotEncodedData\\label0\\1156_encoded.txt\", Original, Target, Label ,Edges_Nums, Edges_Weight)"
   ]
  },
  {
   "cell_type": "code",
   "execution_count": 163,
   "metadata": {},
   "outputs": [
    {
     "name": "stdout",
     "output_type": "stream",
     "text": [
      "7386 7386\n"
     ]
    }
   ],
   "source": [
    "print(len(AdjacencyMatrix_FilePath), len(OneHotEncodedData_FilePath))"
   ]
  },
  {
   "cell_type": "code",
   "execution_count": 164,
   "metadata": {},
   "outputs": [],
   "source": [
    "Dataset = []\n",
    "for i in range(len(AdjacencyMatrix_FilePath)):\n",
    "    if AdjacencyMatrix_FilePath[i][1].split('\\\\')[-2] == 'label0' and AdjacencyMatrix_FilePath[i][1].split('\\\\')[-1] == '1156_AdjacencyMatrix.txt':\n",
    "        continue\n",
    "    if AdjacencyMatrix_FilePath[i][1].split('\\\\')[-2] == 'label0' and AdjacencyMatrix_FilePath[i][1].split('\\\\')[-1] == '2271_AdjacencyMatrix.txt':\n",
    "        continue\n",
    "    if AdjacencyMatrix_FilePath[i][1].split('\\\\')[-2] == 'label1' and AdjacencyMatrix_FilePath[i][1].split('\\\\')[-1] == '513_AdjacencyMatrix.txt':\n",
    "        continue\n",
    "    if AdjacencyMatrix_FilePath[i][1].split('\\\\')[-2] == 'label1' and AdjacencyMatrix_FilePath[i][1].split('\\\\')[-1] == '616_AdjacencyMatrix.txt':\n",
    "        continue\n",
    "    # print(AdjacencyMatrix_FilePath[i][1])\n",
    "    # print(OneHotEncodedData_FilePath[i][1])\n",
    "    Original, Target, Label, Nodes, Edges_Nums, Edges_Weight = MainDate(AdjacencyMatrix_FilePath[i][0], AdjacencyMatrix_FilePath[i][1])\n",
    "    (graph, Label) = GraphCreat(OneHotEncodedData_FilePath[i][1], Original, Target, Label ,Edges_Nums, Edges_Weight)\n",
    "    Dataset.append((graph, Label))\n",
    "    "
   ]
  }
 ],
 "metadata": {
  "kernelspec": {
   "display_name": "AI",
   "language": "python",
   "name": "python3"
  },
  "language_info": {
   "codemirror_mode": {
    "name": "ipython",
    "version": 3
   },
   "file_extension": ".py",
   "mimetype": "text/x-python",
   "name": "python",
   "nbconvert_exporter": "python",
   "pygments_lexer": "ipython3",
   "version": "3.11.7"
  }
 },
 "nbformat": 4,
 "nbformat_minor": 2
}
